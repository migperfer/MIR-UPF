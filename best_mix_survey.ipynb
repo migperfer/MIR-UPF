{
  "nbformat": 4,
  "nbformat_minor": 0,
  "metadata": {
    "file_extension": ".py",
    "kernelspec": {
      "display_name": "Python 3.7.5 64-bit",
      "language": "python",
      "name": "python37564bit2fc85650cefd40e9afb12769a2c6bc65"
    },
    "language_info": {
      "codemirror_mode": {
        "name": "ipython",
        "version": 3
      },
      "file_extension": ".py",
      "mimetype": "text/x-python",
      "name": "python",
      "nbconvert_exporter": "python",
      "pygments_lexer": "ipython3",
      "version": "3.7.5"
    },
    "mimetype": "text/x-python",
    "name": "python",
    "npconvert_exporter": "python",
    "pycharm": {
      "stem_cell": {
        "cell_type": "raw",
        "metadata": {
          "collapsed": false
        },
        "source": []
      }
    },
    "pygments_lexer": "ipython3",
    "version": 3,
    "colab": {
      "name": "best_mix_survey.ipynb",
      "provenance": [],
      "collapsed_sections": [],
      "toc_visible": true,
      "include_colab_link": true
    },
    "accelerator": "GPU"
  },
  "cells": [
    {
      "cell_type": "markdown",
      "metadata": {
        "id": "view-in-github",
        "colab_type": "text"
      },
      "source": [
        "<a href=\"https://colab.research.google.com/github/migperfer/MIR-UPF/blob/master/best_mix_survey.ipynb\" target=\"_parent\"><img src=\"https://colab.research.google.com/assets/colab-badge.svg\" alt=\"Open In Colab\"/></a>"
      ]
    },
    {
      "cell_type": "markdown",
      "metadata": {
        "id": "U42h9-io-kQJ",
        "colab_type": "text"
      },
      "source": [
        "#Instructions to run the Notebook\n",
        "\n",
        "\n",
        "1.   Run all the cells until the first _Create the mixes_ section. There are some cells that may take some time to run.\n",
        "2.   In the **Select a target audio randomly** section, the **Target audio** is selected. You can take a listen in that very same cell.\n",
        "3.   In the _Create the mixes_ section, the mixes of the **target audio** with the **candidate audios** are created, take a listen to the mixes. Each mix has a number.\n",
        "4.   In each _Create the mixes_ section there is a cell where you can rate the mixes in the 0-5 range. Rate the mixes and then, press play in the rating cell.\n",
        "5.   After listening and rating all the mixes, run  the cell on _Print the results_ section to see the results. Kindly copy the output and send it to me.\n",
        "\n"
      ]
    },
    {
      "cell_type": "markdown",
      "metadata": {
        "id": "e4Df4nl3xqqZ",
        "colab_type": "text"
      },
      "source": [
        "## Download and import the python packages"
      ]
    },
    {
      "cell_type": "code",
      "metadata": {
        "pycharm": {
          "is_executing": false
        },
        "id": "GfPxmh3dxqqf",
        "colab_type": "code",
        "colab": {}
      },
      "source": [
        "%%capture\n",
        "!pip install  essentia numpy matplotlib\n",
        "import os\n",
        "import numpy as np\n",
        "import matplotlib as plt\n",
        "import essentia.standard as std\n",
        "import pandas as pd\n",
        "if not os.path.isdir('TIVlib'):\n",
        "    !git clone https://github.com/aframires/TIVlib\n",
        "else:\n",
        "    print(\"TIVlib already installed\")\n",
        "from TIVlib import TIVlib\n",
        "from glob import glob\n",
        "from IPython.display import display, Audio, HTML\n",
        "import re\n",
        "import csv\n",
        "from zipfile import ZipFile\n",
        "import requests"
      ],
      "execution_count": 0,
      "outputs": []
    },
    {
      "cell_type": "markdown",
      "metadata": {
        "id": "suROgKl7xqqy",
        "colab_type": "text"
      },
      "source": [
        "## Download and extract the folder contaning the audio loops"
      ]
    },
    {
      "cell_type": "code",
      "metadata": {
        "id": "b_7Z_yQ9xqqz",
        "colab_type": "code",
        "colab": {}
      },
      "source": [
        "%%capture\n",
        "def download_file_from_google_drive(id, destination):\n",
        "    URL = \"https://docs.google.com/uc?export=download\"\n",
        "\n",
        "    session = requests.Session()\n",
        "\n",
        "    response = session.get(URL, params = { 'id' : id }, stream = True)\n",
        "    token = get_confirm_token(response)\n",
        "\n",
        "    if token:\n",
        "        params = { 'id' : id, 'confirm' : token }\n",
        "        response = session.get(URL, params = params, stream = True)\n",
        "\n",
        "    save_response_content(response, destination)    \n",
        "\n",
        "def get_confirm_token(response):\n",
        "    for key, value in response.cookies.items():\n",
        "        if key.startswith('download_warning'):\n",
        "            return value\n",
        "\n",
        "    return None\n",
        "\n",
        "def save_response_content(response, destination):\n",
        "    CHUNK_SIZE = 32768\n",
        "\n",
        "    with open(destination, \"wb\") as f:\n",
        "        for chunk in response.iter_content(CHUNK_SIZE):\n",
        "            if chunk: # filter out keep-alive new chunks\n",
        "                f.write(chunk)\n",
        "\n",
        "# Download the audios\n",
        "file_id = '1mS0G_Gk4v6IHe2E2IZ2Z6dcE-lcTuZx3'\n",
        "destination = 'audios.zip'\n",
        "download_file_from_google_drive(file_id, destination)"
      ],
      "execution_count": 0,
      "outputs": []
    },
    {
      "cell_type": "code",
      "metadata": {
        "id": "zG5L0MGpxqq8",
        "colab_type": "code",
        "colab": {}
      },
      "source": [
        "%%capture\n",
        "# Unzip the file\n",
        "with ZipFile('audios.zip', 'r') as zipObj:\n",
        "   # Extract all the contents of zip file in different directory\n",
        "   zipObj.extractall()"
      ],
      "execution_count": 0,
      "outputs": []
    },
    {
      "cell_type": "markdown",
      "metadata": {
        "id": "FsTP5nCA2DEr",
        "colab_type": "text"
      },
      "source": [
        "## Download the subset file\n"
      ]
    },
    {
      "cell_type": "code",
      "metadata": {
        "id": "PSbtcQM22JGK",
        "colab_type": "code",
        "colab": {}
      },
      "source": [
        "%%capture\n",
        "!git clone https://github.com/migperfer/MIR-UPF\n",
        "!cp ./MIR-UPF/compt_loops.csv compt_loops.csv "
      ],
      "execution_count": 0,
      "outputs": []
    },
    {
      "cell_type": "markdown",
      "metadata": {
        "id": "mEszRGV2xqrN",
        "colab_type": "text"
      },
      "source": [
        "## Define a function to get beatwise TIVs"
      ]
    },
    {
      "cell_type": "code",
      "metadata": {
        "pycharm": {
          "is_executing": false
        },
        "id": "V3t-hGlRxqrP",
        "colab_type": "code",
        "colab": {}
      },
      "source": [
        "%%capture\n",
        "def get_beat_chunks(filename, bpm_restrict=None):\n",
        "    audio = std.MonoLoader(filename=filename)()\n",
        "    hpcp = std.HPCP()\n",
        "    spectrum = std.Spectrum()\n",
        "    speaks = std.SpectralPeaks()\n",
        "    tivs = []\n",
        "    sr = 44100\n",
        "    bpm = get_tempo(filename)\n",
        "    tivs_framewise = []\n",
        "    if bpm_restrict != None and bpm_restrict!=bpm:\n",
        "        raise ValueError\n",
        "    sec_beat = (60/bpm)\n",
        "    beats = np.arange(0, len(audio)/sr, sec_beat)\n",
        "    beats = np.append(beats, len(audio)/sr)\n",
        "    frames = []\n",
        "    for i in range(1, len(beats)):\n",
        "        segmented_audio = audio[int(beats[i - 1] * sr):int(beats[i] * sr)]\n",
        "        cutter = std.FrameGenerator(segmented_audio)\n",
        "        aux = []\n",
        "        for sec in cutter:\n",
        "            spec = spectrum(sec)\n",
        "            freq, mag = speaks(spec)\n",
        "            chroma = hpcp(freq, mag)\n",
        "            tivs_framewise.append(TIVlib.TIV.from_pcp(chroma))\n",
        "            aux.append(chroma)\n",
        "            frames.append(spec)\n",
        "        chroma = np.mean(aux, axis=1)\n",
        "        tiv = TIVlib.TIV.from_pcp(chroma)\n",
        "        tivs.append(tiv)\n",
        "    \n",
        "    # Calculate the whole TIV\n",
        "    frame_mean = np.mean(frames, axis=1)\n",
        "    freq, mag = speaks(frame_mean)\n",
        "    chroma_whole = hpcp(freq, mag)\n",
        "    tiv_whole = TIVlib.TIV.from_pcp(chroma_whole)\n",
        "    return tivs, tiv_whole, tivs_framewise\n",
        "\n",
        "def get_number_beats(filename):\n",
        "    audio = std.MonoLoader(filename=filename)()\n",
        "    sr = 44100\n",
        "    bpm = get_tempo(filename)\n",
        "    sec_beat = (60/bpm)\n",
        "    beats = np.arange(0, len(audio)/sr, sec_beat)\n",
        "    beats = np.append(beats, len(audio)/sr)\n",
        "    return len(beats)\n",
        "\n",
        "def get_tempo(filename):\n",
        "    try:\n",
        "        bpm = int(re.search(r\"(\\d+)bpm\", filename).group(1))\n",
        "    except:\n",
        "        bpm = int(re.search(r\"/(\\d+)-\", filename).group(1))\n",
        "    return bpm\n"
      ],
      "execution_count": 0,
      "outputs": []
    },
    {
      "cell_type": "markdown",
      "metadata": {
        "id": "BXNgOo_uyU8o",
        "colab_type": "text"
      },
      "source": [
        "## Define functions to retrieve Essentia dissonance"
      ]
    },
    {
      "cell_type": "code",
      "metadata": {
        "id": "piWvk8H7yVUx",
        "colab_type": "code",
        "colab": {}
      },
      "source": [
        "%%capture\n",
        "def audio_dissonance(filename1, filename2):\n",
        "    audio1 = std.MonoLoader(filename=filename1)()\n",
        "    audio2 = std.MonoLoader(filename=filename2)()\n",
        "    spectrum = std.Spectrum()\n",
        "    speaks = std.SpectralPeaks()\n",
        "    diss = std.Dissonance()\n",
        "    dissonances = []\n",
        "    sr = 44100\n",
        "    bpm1 = get_tempo(filename1)\n",
        "    bpm2 = get_tempo(filename2)\n",
        "    if bpm1 != bpm2:\n",
        "      raise ValueError(\"Different tempo\")\n",
        "    else:\n",
        "      bpm = bpm1\n",
        "    sec_beat = (60/bpm)\n",
        "    beats = np.arange(0, len(audio2)/sr, sec_beat)\n",
        "    beats = np.append(beats, len(audio2)/sr)\n",
        "    aux_total = []\n",
        "    for i in range(1, len(beats)):\n",
        "        # Beatwise dissonance\n",
        "        segmented_audio1 = audio1[int(beats[i - 1] * sr):int(beats[i] * sr)]\n",
        "        segmented_audio2 = audio2[int(beats[i - 1] * sr):int(beats[i] * sr)]\n",
        "        try:\n",
        "          segmented_audio = segmented_audio1 + segmented_audio2[:len(segmented_audio1)]\n",
        "        except:\n",
        "          segmented_audio = segmented_audio2 + segmented_audio1[:len(segmented_audio2)]\n",
        "        cutter = std.FrameGenerator(segmented_audio)\n",
        "        aux = []\n",
        "        for sec in cutter:\n",
        "            spec = spectrum(sec)\n",
        "            aux_total.append(spec)\n",
        "            freq, mag = speaks(spec)\n",
        "            aux.append(diss(freq, mag))  # Framewise dissonance for beat i\n",
        "        dissonances.append(np.mean(aux)) # Append mean dissonance for beat i\n",
        "    \n",
        "    # Whole dissonance\n",
        "    freq, mag = speaks(np.mean(aux_total, axis=1))\n",
        "    dissonance = diss(freq, mag)  # Dissonance produced by the mean spectrum\n",
        "    return np.mean(dissonances), dissonance\n",
        "\n",
        "def pad_zeros(arr):\n",
        "  arr_len = np.log2(len(arr))\n",
        "  fin_len = np.ceil(arr_len)\n",
        "  deficit = int(np.power(2, fin_len) - len(arr))\n",
        "  arr = np.concatenate((np.zeros(deficit, dtype=arr.dtype), arr))\n",
        "  return arr"
      ],
      "execution_count": 0,
      "outputs": []
    },
    {
      "cell_type": "markdown",
      "metadata": {
        "id": "kiGNfthgxqrg",
        "colab_type": "text"
      },
      "source": [
        "## Load all the compatible loops\n",
        "And then calculate the compatibilities\n"
      ]
    },
    {
      "cell_type": "markdown",
      "metadata": {
        "id": "Wn2mZTijYlTs",
        "colab_type": "text"
      },
      "source": [
        "### Select a **target audio** randomly\n",
        "Listen to the target loop. If it's mainly a drum loop, rerun this cell until you get something that doesn't contain mainly percussion.\n",
        "\n"
      ]
    },
    {
      "cell_type": "code",
      "metadata": {
        "pycharm": {
          "is_executing": false,
          "name": "#%%\n"
        },
        "id": "sUm4a9T4xqri",
        "colab_type": "code",
        "colab": {}
      },
      "source": [
        "filenames = []\n",
        "with open('compt_loops.csv', 'r') as file:\n",
        "    dicw = csv.DictReader(file)\n",
        "    for row in dicw:\n",
        "        filenames.append(row['filename'])\n",
        "mp3list = filenames\n",
        "# Target audio selected using the initial form\n",
        "loop_sample = np.random.randint(0, len(mp3list)-1)\n",
        "target_audio = mp3list[loop_sample]\n",
        "print(\"Selected audio:\", target_audio.split('subset/')[1])\n",
        "display(Audio(filename=target_audio))\n",
        "main_song_tivs, main_song_tiv_whole, main_song_framewise = get_beat_chunks(target_audio)"
      ],
      "execution_count": 0,
      "outputs": []
    },
    {
      "cell_type": "markdown",
      "metadata": {
        "id": "1MFsFABjIxpq",
        "colab_type": "text"
      },
      "source": [
        "#### TIV"
      ]
    },
    {
      "cell_type": "code",
      "metadata": {
        "pycharm": {
          "is_executing": false,
          "name": "#%%\n"
        },
        "id": "hw6_SfaUxqrn",
        "colab_type": "code",
        "colab": {}
      },
      "source": [
        "compdict = {}  # A dictionary to keep all compatibilities\n",
        "compdict_whole = {}  # A dictionary to keep all compatibilities (whole version)\n",
        "compdict_framewise = {}\n",
        "for candidate in filenames:\n",
        "    tivcand, tivcand_whole, tivframewise = get_beat_chunks(candidate)\n",
        "    # TIV beatwise\n",
        "    comp = []\n",
        "    for i in range(len(main_song_tivs)):\n",
        "        comp.append(main_song_tivs[i].small_scale_compatibility(tivcand[i]))\n",
        "    compdict[candidate] = np.sum(comp)\n",
        "    # TIV Whole\n",
        "    compdict_whole[candidate] = main_song_tiv_whole.small_scale_compatibility(tivcand_whole)\n",
        "    # TIV Framewise\n",
        "    comp = []\n",
        "    for i in range(len(tivframewise)):\n",
        "      comp.append(main_song_framewise[i].small_scale_compatibility(tivframewise[i]))\n",
        "    compdict_framewise[candidate] = np.sum(comp)"
      ],
      "execution_count": 0,
      "outputs": []
    },
    {
      "cell_type": "markdown",
      "metadata": {
        "id": "cEGKvknxIz6N",
        "colab_type": "text"
      },
      "source": [
        "#### Essentia Dissonance\n"
      ]
    },
    {
      "cell_type": "code",
      "metadata": {
        "id": "etkJHcHII2U9",
        "colab_type": "code",
        "colab": {}
      },
      "source": [
        "compdict_diss = {}  # A dictionary to keep all compatibilities\n",
        "compdict_diss_whole = {}  # A dictionary to keep all compatibilities (whole version)\n",
        "for candidate in filenames:\n",
        "  framewise_diss, whole_diss = audio_dissonance(candidate, target_audio)\n",
        "  compdict_diss[candidate] = framewise_diss\n",
        "  compdict_diss_whole[candidate] = whole_diss"
      ],
      "execution_count": 0,
      "outputs": []
    },
    {
      "cell_type": "markdown",
      "metadata": {
        "id": "ZzYQzI04xqrs",
        "colab_type": "text"
      },
      "source": [
        "### Sort the loops according to compatibility\n",
        "Create also a dictionary containing the 10 most compatibles"
      ]
    },
    {
      "cell_type": "markdown",
      "metadata": {
        "id": "-eAxCz5AIf-t",
        "colab_type": "text"
      },
      "source": [
        "#### TIV"
      ]
    },
    {
      "cell_type": "code",
      "metadata": {
        "pycharm": {
          "is_executing": false,
          "name": "#%%\n"
        },
        "id": "42tjRXHcxqrv",
        "colab_type": "code",
        "colab": {}
      },
      "source": [
        "#Beatwise version\n",
        "compdict = {k: v for k, v in sorted(compdict.items(), key=lambda item: item[1])}\n",
        "dict_10 = {}\n",
        "for x in list(compdict)[1:11]:\n",
        "    dict_10[x] = compdict[x]"
      ],
      "execution_count": 0,
      "outputs": []
    },
    {
      "cell_type": "code",
      "metadata": {
        "id": "OlkDbQ4g3-xq",
        "colab_type": "code",
        "colab": {}
      },
      "source": [
        "#Whole version\n",
        "compdict_whole = {k: v for k, v in sorted(compdict_whole.items(), key=lambda item: item[1])}\n",
        "dict_10_w = {}\n",
        "for x in list(compdict_whole)[1:11]:\n",
        "    dict_10_w[x] = compdict_whole[x]"
      ],
      "execution_count": 0,
      "outputs": []
    },
    {
      "cell_type": "code",
      "metadata": {
        "id": "9JnUz3FYnj_J",
        "colab_type": "code",
        "colab": {}
      },
      "source": [
        "#Framewise version\n",
        "compdict_framewise = {k: v for k, v in sorted(compdict_framewise.items(), key=lambda item: item[1])}\n",
        "dict_10_f = {}\n",
        "for x in list(compdict_framewise)[1:11]:\n",
        "    dict_10_f[x] = compdict_framewise[x]"
      ],
      "execution_count": 0,
      "outputs": []
    },
    {
      "cell_type": "code",
      "metadata": {
        "pycharm": {
          "is_executing": false,
          "name": "#%%\n"
        },
        "id": "lENIsKZWxqr1",
        "colab_type": "code",
        "colab": {}
      },
      "source": [
        "def create_mix(song1, song2):\n",
        "    audio1 = std.MonoLoader(filename=song1)()\n",
        "    audio2 = std.MonoLoader(filename=song2)()\n",
        "    audio1 = audio1/max(audio1)/2\n",
        "    audio2 = audio2/max(audio2)/2\n",
        "    try:\n",
        "      mix = audio1 + audio2[:len(audio1)]\n",
        "    except:\n",
        "      mix = audio2 + audio1[:len(audio2)]\n",
        "    return mix"
      ],
      "execution_count": 0,
      "outputs": []
    },
    {
      "cell_type": "code",
      "metadata": {
        "id": "nAlRQQQ_4gcN",
        "colab_type": "code",
        "colab": {}
      },
      "source": [
        "def intersection(lst1, lst2): \n",
        "    lst3 = [list(filter(lambda x: x in lst1, sublist)) for sublist in lst2] \n",
        "    return lst3 \n",
        "\n",
        "intersection_tivbeatwise_tivwhole = len(intersection(list(dict_10_w.keys()), list(dict_10.keys())))/len(mp3list)"
      ],
      "execution_count": 0,
      "outputs": []
    },
    {
      "cell_type": "markdown",
      "metadata": {
        "id": "1Ds25Qn4ImjX",
        "colab_type": "text"
      },
      "source": [
        "#### Essentia dissonance"
      ]
    },
    {
      "cell_type": "code",
      "metadata": {
        "id": "S-qsR5iWIoYm",
        "colab_type": "code",
        "colab": {}
      },
      "source": [
        "#Framewise mean version\n",
        "compdict_diss = {k: v for k, v in sorted(compdict_diss.items(), key=lambda item: item[1])}\n",
        "dict_10_d = {}\n",
        "for x in list(compdict_diss)[1:11]:\n",
        "    dict_10_d[x] = compdict_diss[x]"
      ],
      "execution_count": 0,
      "outputs": []
    },
    {
      "cell_type": "code",
      "metadata": {
        "id": "mrm9DSu6KjW1",
        "colab_type": "code",
        "colab": {}
      },
      "source": [
        "#Whole mean spectrum version\n",
        "compdict_diss_whole = {k: v for k, v in sorted(compdict_diss_whole.items(), key=lambda item: item[1])}\n",
        "dict_10_dw = {}\n",
        "for x in list(compdict_diss_whole)[0:10]:\n",
        "    dict_10_dw[x] = compdict_diss_whole[x]"
      ],
      "execution_count": 0,
      "outputs": []
    },
    {
      "cell_type": "markdown",
      "metadata": {
        "id": "XRgvLu7Axqr6",
        "colab_type": "text"
      },
      "source": [
        "## Create the mixes and listen to them (TIV Beatwise)\n",
        "This will output the ten most compatible **candidate loops**  along with the mixes with the **target loops**. Those mixes will be created with the beatwise TIV."
      ]
    },
    {
      "cell_type": "code",
      "metadata": {
        "pycharm": {
          "is_executing": false,
          "name": "#%%\n"
        },
        "scrolled": false,
        "id": "kBqPBzBsxqr8",
        "colab_type": "code",
        "cellView": "code",
        "colab": {}
      },
      "source": [
        "i = 0\n",
        "for key in dict_10.keys():\n",
        "    display(HTML(\"<h3>Mix #%s: %s</h3>\" % (i, key.split('/')[-1])))\n",
        "    display(HTML(\"Original\"))\n",
        "    display(Audio(filename=key))\n",
        "    mix = create_mix(target_audio, key)\n",
        "    display(HTML(\"Mix\"))\n",
        "    display(Audio(data=mix, rate=44100))\n",
        "    i += 1"
      ],
      "execution_count": 0,
      "outputs": []
    },
    {
      "cell_type": "code",
      "metadata": {
        "id": "sQKi7slYjcmP",
        "colab_type": "code",
        "cellView": "form",
        "colab": {}
      },
      "source": [
        "#@title Rate the _consonance_ of the mixes with a score between 0 and 5\n",
        "#@markdown Run this cell to see the output.\n",
        "#@markdown Please rate the mix with a **-1** if the candidate loop for the mix is mainly a drum loop\n",
        "mix_0_tivb = 4  #@param {type: \"slider\", min: -1, max: 5}\n",
        "mix_1_tivb = 2  #@param {type: \"slider\", min: -1, max: 5}\n",
        "mix_2_tivb = 1  #@param {type: \"slider\", min: -1, max: 5}\n",
        "mix_3_tivb = 3  #@param {type: \"slider\", min: -1, max: 5}\n",
        "mix_4_tivb = 1  #@param {type: \"slider\", min: -1, max: 5}\n",
        "mix_5_tivb = 3  #@param {type: \"slider\", min: -1, max: 5}\n",
        "mix_6_tivb = 3  #@param {type: \"slider\", min: -1, max: 5}\n",
        "mix_7_tivb = 1  #@param {type: \"slider\", min: -1, max: 5}\n",
        "mix_8_tivb = 3  #@param {type: \"slider\", min: -1, max: 5}\n",
        "mix_9_tivb = 1  #@param {type: \"slider\", min: -1, max: 5}\n",
        "#@markdown ---\n"
      ],
      "execution_count": 0,
      "outputs": []
    },
    {
      "cell_type": "markdown",
      "metadata": {
        "id": "vDi0zx14-dQ0",
        "colab_type": "text"
      },
      "source": [
        "## Create the mixes and listen to them (TIV Whole)\n",
        "This will output the ten most compatible **candidate loops**  along with the mixes with the **target loops**. Those mixes will be created with the whole TIV."
      ]
    },
    {
      "cell_type": "code",
      "metadata": {
        "id": "fO9BYbOs-kMT",
        "colab_type": "code",
        "colab": {}
      },
      "source": [
        "i = 0\n",
        "for key in dict_10_w.keys():\n",
        "    display(HTML(\"<h3>Mix #%s: %s</h3>\" % (i, key.split('/')[-1])))\n",
        "    display(HTML(\"Original\"))\n",
        "    display(Audio(filename=key))\n",
        "    mix = create_mix(target_audio, key)\n",
        "    display(HTML(\"Mix\"))\n",
        "    display(Audio(data=mix, rate=44100))\n",
        "    i += 1"
      ],
      "execution_count": 0,
      "outputs": []
    },
    {
      "cell_type": "code",
      "metadata": {
        "id": "QzedtkYg6Jso",
        "colab_type": "code",
        "cellView": "form",
        "colab": {}
      },
      "source": [
        "#@title Rate the _consonance_ of the mixes with a score between 0 and 5\n",
        "#@markdown Run this cell to see the output.\n",
        "#@markdown Please rate the mix with a **-1** if the candidate loop for the mix is mainly a drum loop\n",
        "mix_0_tivw = 2  #@param {type: \"slider\", min: -1, max: 5}\n",
        "mix_1_tivw = 2  #@param {type: \"slider\", min: -1, max: 5}\n",
        "mix_2_tivw = 2  #@param {type: \"slider\", min: -1, max: 5}\n",
        "mix_3_tivw = 2  #@param {type: \"slider\", min: -1, max: 5}\n",
        "mix_4_tivw = 2  #@param {type: \"slider\", min: -1, max: 5}\n",
        "mix_5_tivw = 2  #@param {type: \"slider\", min: -1, max: 5}\n",
        "mix_6_tivw = 2  #@param {type: \"slider\", min: -1, max: 5}\n",
        "mix_7_tivw = 2  #@param {type: \"slider\", min: -1, max: 5}\n",
        "mix_8_tivw = 2  #@param {type: \"slider\", min: -1, max: 5}\n",
        "mix_9_tivw = 2  #@param {type: \"slider\", min: -1, max: 5}\n",
        "#@markdown ---\n"
      ],
      "execution_count": 0,
      "outputs": []
    },
    {
      "cell_type": "markdown",
      "metadata": {
        "id": "IRf-ky86n12P",
        "colab_type": "text"
      },
      "source": [
        "## Create the mixes and listen to them (TIV Framewise)"
      ]
    },
    {
      "cell_type": "code",
      "metadata": {
        "id": "wCNBtTJmn713",
        "colab_type": "code",
        "colab": {}
      },
      "source": [
        "i = 0\n",
        "for key in dict_10_f.keys():\n",
        "    display(HTML(\"<h3>Mix #%s: %s</h3>\" % (i, key.split('/')[-1])))\n",
        "    display(HTML(\"Original\"))\n",
        "    display(Audio(filename=key))\n",
        "    mix = create_mix(target_audio, key)\n",
        "    display(HTML(\"Mix\"))\n",
        "    display(Audio(data=mix, rate=44100))\n",
        "    i += 1"
      ],
      "execution_count": 0,
      "outputs": []
    },
    {
      "cell_type": "code",
      "metadata": {
        "id": "bLOB-HFeoC2Q",
        "colab_type": "code",
        "cellView": "form",
        "colab": {}
      },
      "source": [
        "#@title Rate the _consonance_ of the mixes with a score between 0 and 5\n",
        "#@markdown Run this cell to see the output.\n",
        "#@markdown Please rate the mix with a **-1** if the candidate loop for the mix is mainly a drum loop\n",
        "mix_0_tivf = 2  #@param {type: \"slider\", min: -1, max: 5}\n",
        "mix_1_tivf = 2  #@param {type: \"slider\", min: -1, max: 5}\n",
        "mix_2_tivf = 2  #@param {type: \"slider\", min: -1, max: 5}\n",
        "mix_3_tivf = 2  #@param {type: \"slider\", min: -1, max: 5}\n",
        "mix_4_tivf = 2  #@param {type: \"slider\", min: -1, max: 5}\n",
        "mix_5_tivf = 2  #@param {type: \"slider\", min: -1, max: 5}\n",
        "mix_6_tivf = 2  #@param {type: \"slider\", min: -1, max: 5}\n",
        "mix_7_tivf = 2  #@param {type: \"slider\", min: -1, max: 5}\n",
        "mix_8_tivf = 2  #@param {type: \"slider\", min: -1, max: 5}\n",
        "mix_9_tivf = 2  #@param {type: \"slider\", min: -1, max: 5}\n",
        "#@markdown ---"
      ],
      "execution_count": 0,
      "outputs": []
    },
    {
      "cell_type": "markdown",
      "metadata": {
        "id": "DYR1l2ohK4mq",
        "colab_type": "text"
      },
      "source": [
        "## Create the mixes and listen to them (Dissonance)\n",
        "\n"
      ]
    },
    {
      "cell_type": "code",
      "metadata": {
        "id": "SRzZQSfPLEnm",
        "colab_type": "code",
        "colab": {}
      },
      "source": [
        "i = 0\n",
        "for key in dict_10_d.keys():\n",
        "    display(HTML(\"<h3>Mix #%s: %s</h3>\" % (i, key.split('/')[-1])))\n",
        "    display(HTML(\"Original\"))\n",
        "    display(Audio(filename=key))\n",
        "    mix = create_mix(target_audio, key)\n",
        "    display(HTML(\"Mix\"))\n",
        "    display(Audio(data=mix, rate=44100))\n",
        "    i += 1"
      ],
      "execution_count": 0,
      "outputs": []
    },
    {
      "cell_type": "code",
      "metadata": {
        "id": "HumA2aiu6Q7Y",
        "colab_type": "code",
        "cellView": "form",
        "colab": {}
      },
      "source": [
        "#@title Rate the _consonance_ of the mixes with a score between 0 and 5\n",
        "#@markdown Run this cell to see the output.\n",
        "#@markdown Please rate the mix with a **-1** if the candidate loop for the mix is mainly a drum loop\n",
        "mix_0_diss = 2  #@param {type: \"slider\", min: -1, max: 5}\n",
        "mix_1_diss = 2  #@param {type: \"slider\", min: -1, max: 5}\n",
        "mix_2_diss = 2  #@param {type: \"slider\", min: -1, max: 5}\n",
        "mix_3_diss = 2  #@param {type: \"slider\", min: -1, max: 5}\n",
        "mix_4_diss = 2  #@param {type: \"slider\", min: -1, max: 5}\n",
        "mix_5_diss = 2  #@param {type: \"slider\", min: -1, max: 5}\n",
        "mix_6_diss = 2  #@param {type: \"slider\", min: -1, max: 5}\n",
        "mix_7_diss = 2  #@param {type: \"slider\", min: -1, max: 5}\n",
        "mix_8_diss = 2  #@param {type: \"slider\", min: -1, max: 5}\n",
        "mix_9_diss = 2  #@param {type: \"slider\", min: -1, max: 5}\n",
        "#@markdown ---\n"
      ],
      "execution_count": 0,
      "outputs": []
    },
    {
      "cell_type": "markdown",
      "metadata": {
        "id": "jruHNvyFPQc0",
        "colab_type": "text"
      },
      "source": [
        "## Print the results"
      ]
    },
    {
      "cell_type": "code",
      "metadata": {
        "id": "Q47VFIWR-4OA",
        "colab_type": "code",
        "cellView": "form",
        "colab": {}
      },
      "source": [
        "#@markdown #Press play on this cell to show the results\n",
        "final_results = {'loop_sample': loop_sample, 'mix_0_diss': mix_0_diss, 'mix_1_diss': mix_1_diss, 'mix_2_diss': mix_2_diss, \n",
        " 'mix_3_diss': mix_3_diss, 'mix_4_diss': mix_4_diss, 'mix_5_diss': mix_5_diss, 'mix_6_diss': mix_6_diss, 'mix_7_diss': mix_7_diss,\n",
        " 'mix_8_diss': mix_8_diss, 'mix_9_diss': mix_9_diss, 'mix_0_tivb': mix_0_tivb, 'mix_1_tivb': mix_1_tivb, 'mix_2_tivb': mix_2_tivb, \n",
        " 'mix_3_tivb': mix_3_tivb, 'mix_4_tivb': mix_4_tivb, 'mix_5_tivb': mix_5_tivb, 'mix_6_tivb': mix_6_tivb, 'mix_7_tivb': mix_7_tivb,\n",
        " 'mix_8_tivb': mix_8_tivb, 'mix_9_tivb': mix_9_tivb, 'mix_0_tivw': mix_0_tivw, 'mix_1_tivw': mix_1_tivw, 'mix_2_tivw': mix_2_tivw, \n",
        " 'mix_3_tivw': mix_3_tivw, 'mix_4_tivw': mix_4_tivw, 'mix_5_tivw': mix_5_tivw, 'mix_6_tivw': mix_6_tivw, 'mix_7_tivw': mix_7_tivw,\n",
        " 'mix_8_tivw': mix_8_tivw, 'mix_9_tivw': mix_9_tivw, 'mix_0_tivf': mix_0_tivf, 'mix_1_tivf': mix_1_tivf, 'mix_2_tivf': mix_2_tivf, \n",
        " 'mix_3_tivf': mix_3_tivf, 'mix_4_tivf': mix_4_tivf, 'mix_5_tivf': mix_5_tivf, 'mix_6_tivf': mix_6_tivf, 'mix_7_tivf': mix_7_tivf,\n",
        " 'mix_8_tivf': mix_8_tivf, 'mix_9_tivf': mix_9_tivf}\n",
        "final_results.update({'hcom_b{}'.format(i): list(dict_10.values())[i] for i in range(len(dict_10))})\n",
        "final_results.update({'hcom_w{}'.format(i): list(dict_10_w.values())[i] for i in range(len(dict_10_w))})\n",
        "final_results.update({'hcom_d{}'.format(i): list(dict_10_d.values())[i] for i in range(len(dict_10_d))})\n",
        "final_results.update({'hcom_f{}'.format(i): list(dict_10_f.values())[i] for i in range(len(dict_10_f))})\n",
        "final_results"
      ],
      "execution_count": 0,
      "outputs": []
    }
  ]
}