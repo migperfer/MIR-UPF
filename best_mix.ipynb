{
  "nbformat": 4,
  "nbformat_minor": 0,
  "metadata": {
    "file_extension": ".py",
    "kernelspec": {
      "display_name": "Python 3.7.5 64-bit",
      "language": "python",
      "name": "python37564bit2fc85650cefd40e9afb12769a2c6bc65"
    },
    "language_info": {
      "codemirror_mode": {
        "name": "ipython",
        "version": 3
      },
      "file_extension": ".py",
      "mimetype": "text/x-python",
      "name": "python",
      "nbconvert_exporter": "python",
      "pygments_lexer": "ipython3",
      "version": "3.7.5"
    },
    "mimetype": "text/x-python",
    "name": "python",
    "npconvert_exporter": "python",
    "pycharm": {
      "stem_cell": {
        "cell_type": "raw",
        "metadata": {
          "collapsed": false
        },
        "source": []
      }
    },
    "pygments_lexer": "ipython3",
    "version": 3,
    "colab": {
      "name": "best_mix.ipynb",
      "provenance": [],
      "toc_visible": true,
      "include_colab_link": true
    }
  },
  "cells": [
    {
      "cell_type": "markdown",
      "metadata": {
        "id": "view-in-github",
        "colab_type": "text"
      },
      "source": [
        "<a href=\"https://colab.research.google.com/github/migperfer/MIR-UPF/blob/master/best_mix.ipynb\" target=\"_parent\"><img src=\"https://colab.research.google.com/assets/colab-badge.svg\" alt=\"Open In Colab\"/></a>"
      ]
    },
    {
      "cell_type": "markdown",
      "metadata": {
        "id": "e4Df4nl3xqqZ",
        "colab_type": "text"
      },
      "source": [
        "## Download and import the python packages"
      ]
    },
    {
      "cell_type": "code",
      "metadata": {
        "pycharm": {
          "is_executing": false
        },
        "id": "GfPxmh3dxqqf",
        "colab_type": "code",
        "colab": {}
      },
      "source": [
        "!pip install  essentia numpy matplotlib\n",
        "import os\n",
        "import numpy as np\n",
        "import matplotlib as plt\n",
        "import essentia.standard as std\n",
        "import pandas as pd\n",
        "if not os.path.isdir('TIVlib'):\n",
        "    !git clone https://github.com/aframires/TIVlib\n",
        "else:\n",
        "    print(\"TIVlib already installed\")\n",
        "from TIVlib import TIVlib\n",
        "from glob import glob\n",
        "from IPython.display import display, Audio, HTML\n",
        "import re\n",
        "import csv\n",
        "from zipfile import ZipFile\n",
        "import requests"
      ],
      "execution_count": 0,
      "outputs": []
    },
    {
      "cell_type": "markdown",
      "metadata": {
        "id": "suROgKl7xqqy",
        "colab_type": "text"
      },
      "source": [
        "## Download and extract the folder contaning the audio loops"
      ]
    },
    {
      "cell_type": "code",
      "metadata": {
        "id": "b_7Z_yQ9xqqz",
        "colab_type": "code",
        "colab": {}
      },
      "source": [
        "def download_file_from_google_drive(id, destination):\n",
        "    URL = \"https://docs.google.com/uc?export=download\"\n",
        "\n",
        "    session = requests.Session()\n",
        "\n",
        "    response = session.get(URL, params = { 'id' : id }, stream = True)\n",
        "    token = get_confirm_token(response)\n",
        "\n",
        "    if token:\n",
        "        params = { 'id' : id, 'confirm' : token }\n",
        "        response = session.get(URL, params = params, stream = True)\n",
        "\n",
        "    save_response_content(response, destination)    \n",
        "\n",
        "def get_confirm_token(response):\n",
        "    for key, value in response.cookies.items():\n",
        "        if key.startswith('download_warning'):\n",
        "            return value\n",
        "\n",
        "    return None\n",
        "\n",
        "def save_response_content(response, destination):\n",
        "    CHUNK_SIZE = 32768\n",
        "\n",
        "    with open(destination, \"wb\") as f:\n",
        "        for chunk in response.iter_content(CHUNK_SIZE):\n",
        "            if chunk: # filter out keep-alive new chunks\n",
        "                f.write(chunk)\n",
        "                \n",
        "file_id = '1mS0G_Gk4v6IHe2E2IZ2Z6dcE-lcTuZx3'\n",
        "destination = 'audios.zip'\n",
        "download_file_from_google_drive(file_id, destination)"
      ],
      "execution_count": 0,
      "outputs": []
    },
    {
      "cell_type": "code",
      "metadata": {
        "id": "zG5L0MGpxqq8",
        "colab_type": "code",
        "colab": {}
      },
      "source": [
        "# Unzip the file\n",
        "with ZipFile('audios.zip', 'r') as zipObj:\n",
        "   # Extract all the contents of zip file in different directory\n",
        "   zipObj.extractall()"
      ],
      "execution_count": 0,
      "outputs": []
    },
    {
      "cell_type": "markdown",
      "metadata": {
        "id": "Ts5hJYxMxqrD",
        "colab_type": "text"
      },
      "source": [
        "## Get all the mp3 files and select a target audio"
      ]
    },
    {
      "cell_type": "markdown",
      "metadata": {
        "id": "mM2hydFi37R3",
        "colab_type": "text"
      },
      "source": [
        "#### Retrieve all possible loops"
      ]
    },
    {
      "cell_type": "code",
      "metadata": {
        "pycharm": {
          "is_executing": false
        },
        "id": "au8xIq01xqrF",
        "colab_type": "code",
        "colab": {}
      },
      "source": [
        "mp3list = glob('subset/*.mp3')"
      ],
      "execution_count": 0,
      "outputs": []
    },
    {
      "cell_type": "markdown",
      "metadata": {
        "id": "mEszRGV2xqrN",
        "colab_type": "text"
      },
      "source": [
        "## Define a function to get beatwise TIVs"
      ]
    },
    {
      "cell_type": "code",
      "metadata": {
        "pycharm": {
          "is_executing": false
        },
        "id": "V3t-hGlRxqrP",
        "colab_type": "code",
        "colab": {}
      },
      "source": [
        "def get_beat_chunks(filename, bpm_restrict=None):\n",
        "    audio = std.MonoLoader(filename=filename)()\n",
        "    hpcp = std.HPCP()\n",
        "    spectrum = std.Spectrum()\n",
        "    speaks = std.SpectralPeaks()\n",
        "    tivs = []\n",
        "    sr = 44100\n",
        "    bpm = get_tempo(filename)\n",
        "    if bpm_restrict != None and bpm_restrict!=bpm:\n",
        "        raise ValueError\n",
        "    sec_beat = (60/bpm)\n",
        "    beats = np.arange(0, len(audio)/sr, sec_beat)\n",
        "    beats = np.append(beats, len(audio)/sr)\n",
        "    for i in range(1, len(beats)):\n",
        "        segmented_audio = audio[int(beats[i - 1] * sr):int(beats[i] * sr)]\n",
        "        cutter = std.FrameGenerator(segmented_audio)\n",
        "        aux = []\n",
        "        for spec in cutter:\n",
        "            freq, mag = speaks(spec)\n",
        "            chroma = hpcp(freq, mag)\n",
        "            aux.append(chroma)\n",
        "        chroma = np.mean(aux, axis=1)\n",
        "        tiv = TIVlib.TIV.from_pcp(chroma)\n",
        "        tivs.append(tiv)\n",
        "    return tivs\n",
        "\n",
        "def get_number_beats(filename):\n",
        "    audio = std.MonoLoader(filename=filename)()\n",
        "    sr = 44100\n",
        "    bpm = get_tempo(filename)\n",
        "    sec_beat = (60/bpm)\n",
        "    beats = np.arange(0, len(audio)/sr, sec_beat)\n",
        "    beats = np.append(beats, len(audio)/sr)\n",
        "    return len(beats)\n",
        "\n",
        "def get_tempo(filename):\n",
        "    try:\n",
        "        bpm = int(re.search(r\"(\\d+)bpm\", filename).group(1))\n",
        "    except:\n",
        "        bpm = int(re.search(r\"/(\\d+)-\", filename).group(1))\n",
        "    return bpm"
      ],
      "execution_count": 0,
      "outputs": []
    },
    {
      "cell_type": "markdown",
      "metadata": {
        "id": "3tgbH2qjNX0d",
        "colab_type": "text"
      },
      "source": [
        "## Get an overview of the dataset"
      ]
    },
    {
      "cell_type": "code",
      "metadata": {
        "id": "Yq149ZJuNZXy",
        "colab_type": "code",
        "colab": {}
      },
      "source": [
        "df = []\n",
        "if not os.path.isfile('compt_loops.csv'):\n",
        "  for song in mp3list:\n",
        "    df.append({'filename': song, 'n_beats': get_number_beats(song), 'tempo': get_tempo(song)})\n",
        "  df = pd.DataFrame(df)\n",
        "  df.head()\n",
        "  idx = df.groupby(['n_beats','tempo']).count().idxmax()\n",
        "  n_beats_max = idx[0][0]\n",
        "  tempo_max = idx[0][1]\n",
        "  final_df = (df['n_beats'] == n_beats_max) & (df['tempo'] == tempo_max)\n",
        "  final_df = df[final_df]\n",
        "  print(\"Maximum number of common feature samples for %s number of beats and %s bpm. A total of %s loops\" % \n",
        "        (n_beats_max, tempo_max, len(final_df)))\n",
        "  mp3list = final_df['filename'].tolist()\n",
        "  final_df.to_csv('compt_loops.csv')\n",
        "  final_df.head()"
      ],
      "execution_count": 0,
      "outputs": []
    },
    {
      "cell_type": "markdown",
      "metadata": {
        "id": "Wn2mZTijYlTs",
        "colab_type": "text"
      },
      "source": [
        "### Select a target audio randomly\n",
        "Listen to the target loop. If it's mainly a drum loop, rerun this cell until you get something that doesn't contain mainly percussion.\n",
        "\n"
      ]
    },
    {
      "cell_type": "code",
      "metadata": {
        "id": "9L3PVb3XYkjP",
        "colab_type": "code",
        "colab": {}
      },
      "source": [
        "# Target audio selected using the initial form\n",
        "loop_sample = np.random.randint(0, 918)\n",
        "target_audio = mp3list[loop_sample]\n",
        "display(Audio(filename=target_audio))"
      ],
      "execution_count": 0,
      "outputs": []
    },
    {
      "cell_type": "markdown",
      "metadata": {
        "id": "kiGNfthgxqrg",
        "colab_type": "text"
      },
      "source": [
        "## Load all the compatible loops"
      ]
    },
    {
      "cell_type": "code",
      "metadata": {
        "pycharm": {
          "is_executing": false,
          "name": "#%%\n"
        },
        "id": "sUm4a9T4xqri",
        "colab_type": "code",
        "colab": {}
      },
      "source": [
        "filenames = []\n",
        "with open('compt_loops.csv', 'r') as file:\n",
        "    dicw = csv.DictReader(file)\n",
        "    for row in dicw:\n",
        "        filenames.append(row['filename'])"
      ],
      "execution_count": 0,
      "outputs": []
    },
    {
      "cell_type": "code",
      "metadata": {
        "pycharm": {
          "is_executing": false,
          "name": "#%%\n"
        },
        "id": "hw6_SfaUxqrn",
        "colab_type": "code",
        "colab": {}
      },
      "source": [
        "compdict = {}  # A dictionary to keep al compatibilities\n",
        "for candidate in filenames:\n",
        "    tivcand = get_beat_chunks(candidate)\n",
        "    comp = []\n",
        "    for i in range(len(main_song_tivs)):\n",
        "        comp.append(main_song_tivs[i].small_scale_compatibility(tivcand[i]))\n",
        "        compdict[candidate] = np.sum(comp)"
      ],
      "execution_count": 0,
      "outputs": []
    },
    {
      "cell_type": "markdown",
      "metadata": {
        "id": "ZzYQzI04xqrs",
        "colab_type": "text"
      },
      "source": [
        "### Sort the loops according to compatibility\n",
        "Create also a dictionary containing the 10 most compatibles"
      ]
    },
    {
      "cell_type": "code",
      "metadata": {
        "pycharm": {
          "is_executing": false,
          "name": "#%%\n"
        },
        "id": "42tjRXHcxqrv",
        "colab_type": "code",
        "colab": {}
      },
      "source": [
        "compdict = {k: v for k, v in sorted(compdict.items(), key=lambda item: item[1])}\n",
        "dict_10 = {}\n",
        "for x in list(compdict)[1:11]:\n",
        "    dict_10[x] = compdict[x]"
      ],
      "execution_count": 0,
      "outputs": []
    },
    {
      "cell_type": "code",
      "metadata": {
        "pycharm": {
          "is_executing": false,
          "name": "#%%\n"
        },
        "id": "lENIsKZWxqr1",
        "colab_type": "code",
        "colab": {}
      },
      "source": [
        "def create_mix(song1, song2):\n",
        "    audio1 = std.MonoLoader(filename=song1)()\n",
        "    audio2 = std.MonoLoader(filename=song2)()\n",
        "    try:\n",
        "      mix = audio1 + audio2[:len(audio1)]\n",
        "    except:\n",
        "      mix = audio2 + audio1[:len(audio2)]\n",
        "    return mix"
      ],
      "execution_count": 0,
      "outputs": []
    },
    {
      "cell_type": "markdown",
      "metadata": {
        "id": "XRgvLu7Axqr6",
        "colab_type": "text"
      },
      "source": [
        "## Create the mixes and listen to them"
      ]
    },
    {
      "cell_type": "code",
      "metadata": {
        "pycharm": {
          "is_executing": false,
          "name": "#%%\n"
        },
        "scrolled": false,
        "id": "kBqPBzBsxqr8",
        "colab_type": "code",
        "cellView": "code",
        "colab": {}
      },
      "source": [
        "i = 0\n",
        "for key in dict_10.keys():\n",
        "    display(HTML(\"<h3>Mix #%s: %s</h3>\" % (i, key.split('/')[-1])))\n",
        "    display(HTML(\"Original\"))\n",
        "    display(Audio(filename=key))\n",
        "    mix = create_mix(target_audio, key)\n",
        "    display(HTML(\"Mix\"))\n",
        "    display(Audio(data=mix, rate=44100))\n",
        "    i += 1"
      ],
      "execution_count": 0,
      "outputs": []
    },
    {
      "cell_type": "markdown",
      "metadata": {
        "id": "fTf1yY7UmuWL",
        "colab_type": "text"
      },
      "source": [
        "# Results"
      ]
    },
    {
      "cell_type": "code",
      "metadata": {
        "id": "sQKi7slYjcmP",
        "colab_type": "code",
        "cellView": "form",
        "colab": {}
      },
      "source": [
        "#@title Rate the _consonance_ of the mixes with a score between 0 and 5\n",
        "#@markdown Run this cell to see the output.\n",
        "#@markdown Please rate the mix with a **-1** if the candidate loop for the mix is mainly a drum loop\n",
        "mix_0 = 2  #@param {type: \"slider\", min: -1, max: 5}\n",
        "mix_1 = 2  #@param {type: \"slider\", min: -1, max: 5}\n",
        "mix_2 = 2  #@param {type: \"slider\", min: -1, max: 5}\n",
        "mix_3 = 2  #@param {type: \"slider\", min: -1, max: 5}\n",
        "mix_4 = 2  #@param {type: \"slider\", min: -1, max: 5}\n",
        "mix_5 = 2  #@param {type: \"slider\", min: -1, max: 5}\n",
        "mix_6 = 2  #@param {type: \"slider\", min: -1, max: 5}\n",
        "mix_7 = 2  #@param {type: \"slider\", min: -1, max: 5}\n",
        "mix_8 = 2  #@param {type: \"slider\", min: -1, max: 5}\n",
        "mix_9 = 2  #@param {type: \"slider\", min: -1, max: 5}\n",
        "#@markdown ---\n",
        "final_results = {'loop_sample': loop_sample, 'mix_0': mix_0, 'mix_1': mix_1, 'mix_2': mix_2, \n",
        " 'mix_3': mix_3, 'mix_4': mix_4, 'mix_5': mix_5, 'mix_6': mix_6, 'mix_7': mix_7,\n",
        " 'mix_8': mix_8, 'mix_9': mix_9}\n",
        "final_results.update({'hcom_{}'.format(i): list(dict_10.values())[i] for i in range(len(dict_10))})\n",
        "final_results"
      ],
      "execution_count": 0,
      "outputs": []
    }
  ]
}