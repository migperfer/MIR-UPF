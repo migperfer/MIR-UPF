{
  "nbformat": 4,
  "nbformat_minor": 0,
  "metadata": {
    "file_extension": ".py",
    "kernelspec": {
      "display_name": "Python 3.7.5 64-bit",
      "language": "python",
      "name": "python37564bit2fc85650cefd40e9afb12769a2c6bc65"
    },
    "language_info": {
      "codemirror_mode": {
        "name": "ipython",
        "version": 3
      },
      "file_extension": ".py",
      "mimetype": "text/x-python",
      "name": "python",
      "nbconvert_exporter": "python",
      "pygments_lexer": "ipython3",
      "version": "3.7.5"
    },
    "mimetype": "text/x-python",
    "name": "python",
    "npconvert_exporter": "python",
    "pycharm": {
      "stem_cell": {
        "cell_type": "raw",
        "metadata": {
          "collapsed": false
        },
        "source": []
      }
    },
    "pygments_lexer": "ipython3",
    "version": 3,
    "colab": {
      "name": "best_mix.ipynb",
      "provenance": [],
      "collapsed_sections": [
        "1MFsFABjIxpq",
        "cEGKvknxIz6N",
        "ZzYQzI04xqrs",
        "-eAxCz5AIf-t",
        "1Ds25Qn4ImjX",
        "FNJ72mzDRalL",
        "XRgvLu7Axqr6",
        "jruHNvyFPQc0"
      ],
      "toc_visible": true,
      "include_colab_link": true
    }
  },
  "cells": [
    {
      "cell_type": "markdown",
      "metadata": {
        "id": "view-in-github",
        "colab_type": "text"
      },
      "source": [
        "<a href=\"https://colab.research.google.com/github/migperfer/MIR-UPF/blob/master/best_mix.ipynb\" target=\"_parent\"><img src=\"https://colab.research.google.com/assets/colab-badge.svg\" alt=\"Open In Colab\"/></a>"
      ]
    },
    {
      "cell_type": "markdown",
      "metadata": {
        "id": "e4Df4nl3xqqZ",
        "colab_type": "text"
      },
      "source": [
        "## Download and import the python packages"
      ]
    },
    {
      "cell_type": "code",
      "metadata": {
        "pycharm": {
          "is_executing": false
        },
        "id": "GfPxmh3dxqqf",
        "colab_type": "code",
        "colab": {}
      },
      "source": [
        "!pip install  essentia numpy matplotlib\n",
        "import os\n",
        "import numpy as np\n",
        "import matplotlib as plt\n",
        "import essentia.standard as std\n",
        "import pandas as pd\n",
        "if not os.path.isdir('TIVlib'):\n",
        "    !git clone https://github.com/aframires/TIVlib\n",
        "else:\n",
        "    print(\"TIVlib already installed\")\n",
        "from TIVlib import TIVlib\n",
        "from glob import glob\n",
        "from IPython.display import display, Audio, HTML\n",
        "import re\n",
        "import csv\n",
        "from zipfile import ZipFile\n",
        "import requests"
      ],
      "execution_count": 0,
      "outputs": []
    },
    {
      "cell_type": "markdown",
      "metadata": {
        "id": "suROgKl7xqqy",
        "colab_type": "text"
      },
      "source": [
        "## Download and extract the folder contaning the audio loops"
      ]
    },
    {
      "cell_type": "code",
      "metadata": {
        "id": "b_7Z_yQ9xqqz",
        "colab_type": "code",
        "colab": {}
      },
      "source": [
        "def download_file_from_google_drive(id, destination):\n",
        "    URL = \"https://docs.google.com/uc?export=download\"\n",
        "\n",
        "    session = requests.Session()\n",
        "\n",
        "    response = session.get(URL, params = { 'id' : id }, stream = True)\n",
        "    token = get_confirm_token(response)\n",
        "\n",
        "    if token:\n",
        "        params = { 'id' : id, 'confirm' : token }\n",
        "        response = session.get(URL, params = params, stream = True)\n",
        "\n",
        "    save_response_content(response, destination)    \n",
        "\n",
        "def get_confirm_token(response):\n",
        "    for key, value in response.cookies.items():\n",
        "        if key.startswith('download_warning'):\n",
        "            return value\n",
        "\n",
        "    return None\n",
        "\n",
        "def save_response_content(response, destination):\n",
        "    CHUNK_SIZE = 32768\n",
        "\n",
        "    with open(destination, \"wb\") as f:\n",
        "        for chunk in response.iter_content(CHUNK_SIZE):\n",
        "            if chunk: # filter out keep-alive new chunks\n",
        "                f.write(chunk)\n",
        "                \n",
        "file_id = '1mS0G_Gk4v6IHe2E2IZ2Z6dcE-lcTuZx3'\n",
        "destination = 'audios.zip'\n",
        "download_file_from_google_drive(file_id, destination)"
      ],
      "execution_count": 0,
      "outputs": []
    },
    {
      "cell_type": "code",
      "metadata": {
        "id": "zG5L0MGpxqq8",
        "colab_type": "code",
        "colab": {}
      },
      "source": [
        "# Unzip the file\n",
        "with ZipFile('audios.zip', 'r') as zipObj:\n",
        "   # Extract all the contents of zip file in different directory\n",
        "   zipObj.extractall()"
      ],
      "execution_count": 0,
      "outputs": []
    },
    {
      "cell_type": "markdown",
      "metadata": {
        "id": "Ts5hJYxMxqrD",
        "colab_type": "text"
      },
      "source": [
        "## Get all the mp3 files and select a target audio"
      ]
    },
    {
      "cell_type": "markdown",
      "metadata": {
        "id": "mM2hydFi37R3",
        "colab_type": "text"
      },
      "source": [
        "#### Retrieve all possible loops"
      ]
    },
    {
      "cell_type": "code",
      "metadata": {
        "pycharm": {
          "is_executing": false
        },
        "id": "au8xIq01xqrF",
        "colab_type": "code",
        "colab": {}
      },
      "source": [
        "mp3list = glob('subset/*.mp3')"
      ],
      "execution_count": 0,
      "outputs": []
    },
    {
      "cell_type": "markdown",
      "metadata": {
        "id": "mEszRGV2xqrN",
        "colab_type": "text"
      },
      "source": [
        "## Define a function to get beatwise TIVs"
      ]
    },
    {
      "cell_type": "code",
      "metadata": {
        "pycharm": {
          "is_executing": false
        },
        "id": "V3t-hGlRxqrP",
        "colab_type": "code",
        "colab": {}
      },
      "source": [
        "def get_beat_chunks(filename, bpm_restrict=None):\n",
        "    audio = std.MonoLoader(filename=filename)()\n",
        "    hpcp = std.HPCP()\n",
        "    spectrum = std.Spectrum()\n",
        "    speaks = std.SpectralPeaks()\n",
        "    tivs = []\n",
        "    sr = 44100\n",
        "    bpm = get_tempo(filename)\n",
        "    tivs_framewise = []\n",
        "    if bpm_restrict != None and bpm_restrict!=bpm:\n",
        "        raise ValueError\n",
        "    sec_beat = (60/bpm)\n",
        "    beats = np.arange(0, len(audio)/sr, sec_beat)\n",
        "    beats = np.append(beats, len(audio)/sr)\n",
        "    frames = []\n",
        "    for i in range(1, len(beats)):\n",
        "        segmented_audio = audio[int(beats[i - 1] * sr):int(beats[i] * sr)]\n",
        "        cutter = std.FrameGenerator(segmented_audio)\n",
        "        aux = []\n",
        "        for sec in cutter:\n",
        "            spec = spectrum(sec)\n",
        "            freq, mag = speaks(spec)\n",
        "            chroma = hpcp(freq, mag)\n",
        "            tivs_framewise.append(TIVlib.TIV.from_pcp(chroma))\n",
        "            aux.append(chroma)\n",
        "            frames.append(spec)\n",
        "        chroma = np.mean(aux, axis=1)\n",
        "        tiv = TIVlib.TIV.from_pcp(chroma)\n",
        "        tivs.append(tiv)\n",
        "    \n",
        "    # Calculate the whole TIV\n",
        "    frame_mean = np.mean(frames, axis=1)\n",
        "    freq, mag = speaks(frame_mean)\n",
        "    chroma_whole = hpcp(freq, mag)\n",
        "    tiv_whole = TIVlib.TIV.from_pcp(chroma_whole)\n",
        "    return tivs, tiv_whole, tivs_framewise\n",
        "\n",
        "def get_number_beats(filename):\n",
        "    audio = std.MonoLoader(filename=filename)()\n",
        "    sr = 44100\n",
        "    bpm = get_tempo(filename)\n",
        "    sec_beat = (60/bpm)\n",
        "    beats = np.arange(0, len(audio)/sr, sec_beat)\n",
        "    beats = np.append(beats, len(audio)/sr)\n",
        "    return len(beats)\n",
        "\n",
        "def get_tempo(filename):\n",
        "    try:\n",
        "        bpm = int(re.search(r\"(\\d+)bpm\", filename).group(1))\n",
        "    except:\n",
        "        bpm = int(re.search(r\"/(\\d+)-\", filename).group(1))\n",
        "    return bpm"
      ],
      "execution_count": 0,
      "outputs": []
    },
    {
      "cell_type": "markdown",
      "metadata": {
        "id": "BXNgOo_uyU8o",
        "colab_type": "text"
      },
      "source": [
        "## Define functions to retrieve Essentia dissonance"
      ]
    },
    {
      "cell_type": "code",
      "metadata": {
        "id": "piWvk8H7yVUx",
        "colab_type": "code",
        "colab": {}
      },
      "source": [
        "\n",
        "def audio_dissonance(filename1, filename2):\n",
        "    audio1 = std.MonoLoader(filename=filename1)()\n",
        "    audio2 = std.MonoLoader(filename=filename2)()\n",
        "    spectrum = std.Spectrum()\n",
        "    speaks = std.SpectralPeaks()\n",
        "    diss = std.Dissonance()\n",
        "    dissonances = []\n",
        "    sr = 44100\n",
        "    bpm1 = get_tempo(filename1)\n",
        "    bpm2 = get_tempo(filename2)\n",
        "    if bpm1 != bpm2:\n",
        "      raise ValueError(\"Different tempo\")\n",
        "    else:\n",
        "      bpm = bpm1\n",
        "    sec_beat = (60/bpm)\n",
        "    beats = np.arange(0, len(audio2)/sr, sec_beat)\n",
        "    beats = np.append(beats, len(audio2)/sr)\n",
        "    aux_total = []\n",
        "    for i in range(1, len(beats)):\n",
        "        # Beatwise dissonance\n",
        "        segmented_audio1 = audio1[int(beats[i - 1] * sr):int(beats[i] * sr)]\n",
        "        segmented_audio2 = audio2[int(beats[i - 1] * sr):int(beats[i] * sr)]\n",
        "        try:\n",
        "          segmented_audio = segmented_audio1 + segmented_audio2[:len(segmented_audio1)]\n",
        "        except:\n",
        "          segmented_audio = segmented_audio2 + segmented_audio1[:len(segmented_audio2)]\n",
        "        cutter = std.FrameGenerator(segmented_audio)\n",
        "        aux = []\n",
        "        for sec in cutter:\n",
        "            spec = spectrum(sec)\n",
        "            aux_total.append(spec)\n",
        "            freq, mag = speaks(spec)\n",
        "            aux.append(diss(freq, mag))  # Framewise dissonance for beat i\n",
        "        dissonances.append(np.mean(aux)) # Append mean dissonance for beat i\n",
        "    \n",
        "    # Whole dissonance\n",
        "    freq, mag = speaks(np.mean(aux_total, axis=1))\n",
        "    dissonance = diss(freq, mag)  # Dissonance produced by the mean spectrum\n",
        "    return np.mean(dissonances), dissonance\n",
        "\n",
        "def pad_zeros(arr):\n",
        "  arr_len = np.log2(len(arr))\n",
        "  fin_len = np.ceil(arr_len)\n",
        "  deficit = int(np.power(2, fin_len) - len(arr))\n",
        "  arr = np.concatenate((np.zeros(deficit, dtype=arr.dtype), arr))\n",
        "  return arr"
      ],
      "execution_count": 0,
      "outputs": []
    },
    {
      "cell_type": "markdown",
      "metadata": {
        "id": "3tgbH2qjNX0d",
        "colab_type": "text"
      },
      "source": [
        "## Get an overview of the dataset"
      ]
    },
    {
      "cell_type": "code",
      "metadata": {
        "id": "Yq149ZJuNZXy",
        "colab_type": "code",
        "colab": {}
      },
      "source": [
        "df = []\n",
        "if not os.path.isfile('compt_loops.csv'):\n",
        "  for song in mp3list:\n",
        "    df.append({'filename': song, 'n_beats': get_number_beats(song), 'tempo': get_tempo(song)})\n",
        "  df = pd.DataFrame(df)\n",
        "  print(\"Before trimming: %s\" % len(df))\n",
        "  final_df = df[~df.filename.str.contains('(percussion|drums|beat|sub-bass|kick|hats|snare|-808-|-808.mp3|-sub-|-sub.mp3|hihat|percs)', regex=True)]\n",
        "  idx = final_df.groupby(['n_beats','tempo']).count().idxmax()\n",
        "  n_beats_max = idx[0][0]\n",
        "  tempo_max = idx[0][1]\n",
        "  final_df_idx = (final_df['n_beats'] == n_beats_max) & (final_df['tempo'] == tempo_max)\n",
        "  final_df = final_df[final_df_idx]\n",
        "  print(\"Maximum number of common feature samples for %s number of beats and %s bpm. A total of %s loops\" % \n",
        "        (n_beats_max, tempo_max, len(final_df)))\n",
        "  mp3list = final_df['filename'].tolist()\n",
        "  final_df.to_csv('compt_loops.csv')"
      ],
      "execution_count": 0,
      "outputs": []
    },
    {
      "cell_type": "markdown",
      "metadata": {
        "id": "Wn2mZTijYlTs",
        "colab_type": "text"
      },
      "source": [
        "### Select a **target audio** randomly\n",
        "Listen to the target loop. If it's mainly a drum loop, rerun this cell until you get something that doesn't contain mainly percussion.\n",
        "\n"
      ]
    },
    {
      "cell_type": "code",
      "metadata": {
        "id": "9L3PVb3XYkjP",
        "colab_type": "code",
        "colab": {}
      },
      "source": [
        "# Target audio selected using the initial form\n",
        "loop_sample = np.random.randint(0, len(mp3list)-1)\n",
        "target_audio = mp3list[loop_sample]\n",
        "display(Audio(filename=target_audio))\n",
        "main_song_tivs, main_song_tiv_whole, main_song_framewise = get_beat_chunks(target_audio)"
      ],
      "execution_count": 0,
      "outputs": []
    },
    {
      "cell_type": "markdown",
      "metadata": {
        "id": "kiGNfthgxqrg",
        "colab_type": "text"
      },
      "source": [
        "## Load all the compatible loops\n",
        "And then calculate the compatibilities\n"
      ]
    },
    {
      "cell_type": "code",
      "metadata": {
        "pycharm": {
          "is_executing": false,
          "name": "#%%\n"
        },
        "id": "sUm4a9T4xqri",
        "colab_type": "code",
        "colab": {}
      },
      "source": [
        "filenames = []\n",
        "with open('compt_loops.csv', 'r') as file:\n",
        "    dicw = csv.DictReader(file)\n",
        "    for row in dicw:\n",
        "        filenames.append(row['filename'])"
      ],
      "execution_count": 0,
      "outputs": []
    },
    {
      "cell_type": "markdown",
      "metadata": {
        "id": "1MFsFABjIxpq",
        "colab_type": "text"
      },
      "source": [
        "### TIV"
      ]
    },
    {
      "cell_type": "code",
      "metadata": {
        "pycharm": {
          "is_executing": false,
          "name": "#%%\n"
        },
        "id": "hw6_SfaUxqrn",
        "colab_type": "code",
        "colab": {}
      },
      "source": [
        "compdict = {}  # A dictionary to keep all compatibilities\n",
        "compdict_whole = {}  # A dictionary to keep all compatibilities (whole version)\n",
        "compdict_framewise = {}\n",
        "for candidate in filenames:\n",
        "    tivcand, tivcand_whole, tivframewise = get_beat_chunks(candidate)\n",
        "    # TIV beatwise\n",
        "    comp = []\n",
        "    for i in range(len(main_song_tivs)):\n",
        "        comp.append(main_song_tivs[i].small_scale_compatibility(tivcand[i]))\n",
        "    compdict[candidate] = np.sum(comp)\n",
        "    # TIV Whole\n",
        "    compdict_whole[candidate] = main_song_tiv_whole.small_scale_compatibility(tivcand_whole)\n",
        "    # TIV Framewise\n",
        "    comp = []\n",
        "    for i in range(len(tivframewise)):\n",
        "      comp.append(main_song_framewise[i].small_scale_compatibility(tivframewise[i]))\n",
        "    compdict_framewise[candidate] = np.sum(comp)"
      ],
      "execution_count": 0,
      "outputs": []
    },
    {
      "cell_type": "markdown",
      "metadata": {
        "id": "cEGKvknxIz6N",
        "colab_type": "text"
      },
      "source": [
        "### Essentia Dissonance"
      ]
    },
    {
      "cell_type": "code",
      "metadata": {
        "id": "etkJHcHII2U9",
        "colab_type": "code",
        "colab": {}
      },
      "source": [
        "compdict_diss = {}  # A dictionary to keep all compatibilities\n",
        "for candidate in filenames:\n",
        "  framewise_diss, whole_diss = audio_dissonance(candidate, target_audio)\n",
        "  compdict_diss[candidate] = framewise_diss"
      ],
      "execution_count": 0,
      "outputs": []
    },
    {
      "cell_type": "markdown",
      "metadata": {
        "id": "ZzYQzI04xqrs",
        "colab_type": "text"
      },
      "source": [
        "## Sort the loops according to compatibility\n",
        "Create also a dictionary containing the 10 most compatibles"
      ]
    },
    {
      "cell_type": "markdown",
      "metadata": {
        "id": "-eAxCz5AIf-t",
        "colab_type": "text"
      },
      "source": [
        "#### TIV"
      ]
    },
    {
      "cell_type": "code",
      "metadata": {
        "pycharm": {
          "is_executing": false,
          "name": "#%%\n"
        },
        "id": "42tjRXHcxqrv",
        "colab_type": "code",
        "colab": {}
      },
      "source": [
        "#Beatwise version\n",
        "compdict = {k: v for k, v in sorted(compdict.items(), key=lambda item: item[1], reverse=True)}\n",
        "dict_10 = {}\n",
        "for x in list(compdict)[1:11]:\n",
        "    dict_10[x] = compdict[x]"
      ],
      "execution_count": 0,
      "outputs": []
    },
    {
      "cell_type": "code",
      "metadata": {
        "colab_type": "code",
        "id": "CTdI19gFROJj",
        "colab": {}
      },
      "source": [
        "#Whole version\n",
        "compdict_whole = {k: v for k, v in sorted(compdict_whole.items(), key=lambda item: item[1], reverse=True)}\n",
        "dict_10_w = {}\n",
        "for x in list(compdict_whole)[1:11]:\n",
        "    dict_10_w[x] = compdict_whole[x]"
      ],
      "execution_count": 0,
      "outputs": []
    },
    {
      "cell_type": "code",
      "metadata": {
        "id": "U0Zt7qnpCGjh",
        "colab_type": "code",
        "colab": {}
      },
      "source": [
        "#Framewise version\n",
        "compdict_framewise = {k: v for k, v in sorted(compdict_framewise.items(), key=lambda item: item[1], reverse=True)}\n",
        "dict_10_f = {}\n",
        "for x in list(compdict_framewise)[1:11]:\n",
        "    dict_10_f[x] = compdict_framewise[x]"
      ],
      "execution_count": 0,
      "outputs": []
    },
    {
      "cell_type": "markdown",
      "metadata": {
        "id": "1Ds25Qn4ImjX",
        "colab_type": "text"
      },
      "source": [
        "#### Essentia dissonance"
      ]
    },
    {
      "cell_type": "code",
      "metadata": {
        "id": "S-qsR5iWIoYm",
        "colab_type": "code",
        "colab": {}
      },
      "source": [
        "#Framewise mean version\n",
        "compdict_diss = {k: v for k, v in sorted(compdict_diss.items(), key=lambda item: item[1],  reverse=True)}\n",
        "dict_10_d = {}\n",
        "for x in list(compdict_diss)[1:11]:\n",
        "    dict_10_d[x] = compdict_diss[x]"
      ],
      "execution_count": 0,
      "outputs": []
    },
    {
      "cell_type": "markdown",
      "metadata": {
        "id": "FNJ72mzDRalL",
        "colab_type": "text"
      },
      "source": [
        "#### Some utilities"
      ]
    },
    {
      "cell_type": "code",
      "metadata": {
        "id": "nAlRQQQ_4gcN",
        "colab_type": "code",
        "colab": {}
      },
      "source": [
        "def intersection(lst1, lst2): \n",
        "    intersect_list = []\n",
        "    for el1 in lst1:\n",
        "      if el1 in lst2:\n",
        "        intersect_list.append(el1) \n",
        "    return intersect_list \n",
        "\n",
        "intersection_tivbeatwise_tivwhole = len(intersection(list(dict_10_w.keys()), list(dict_10.keys())))*10\n",
        "intersection_tivbeatwise_dissonan = len(intersection(list(dict_10_d.keys()), list(dict_10.keys())))*10\n",
        "intersection_tiv_dissonance = len(intersection(list(dict_10_w.keys()), list(dict_10_d.keys())))*10"
      ],
      "execution_count": 0,
      "outputs": []
    },
    {
      "cell_type": "code",
      "metadata": {
        "pycharm": {
          "is_executing": false,
          "name": "#%%\n"
        },
        "id": "lENIsKZWxqr1",
        "colab_type": "code",
        "colab": {}
      },
      "source": [
        "def create_mix(song1, song2):\n",
        "    audio1 = std.MonoLoader(filename=song1)()\n",
        "    audio2 = std.MonoLoader(filename=song2)()\n",
        "    audio1 = audio1/max(audio1)/2\n",
        "    audio2 = audio2/max(audio2)/2\n",
        "    try:\n",
        "      mix = audio1 + audio2[:len(audio1)]\n",
        "    except:\n",
        "      mix = audio2 + audio1[:len(audio2)]\n",
        "    return mix"
      ],
      "execution_count": 0,
      "outputs": []
    },
    {
      "cell_type": "markdown",
      "metadata": {
        "id": "XRgvLu7Axqr6",
        "colab_type": "text"
      },
      "source": [
        "## Create the mixes and listen to them (TIV Beatwise)\n",
        "This will output the ten most compatible **candidate loops**  along with the mixes with the **target loops**. Those mixes will be created with the beatwise TIV."
      ]
    },
    {
      "cell_type": "code",
      "metadata": {
        "pycharm": {
          "is_executing": false,
          "name": "#%%\n"
        },
        "scrolled": false,
        "id": "kBqPBzBsxqr8",
        "colab_type": "code",
        "cellView": "code",
        "colab": {}
      },
      "source": [
        "i = 0\n",
        "for key in dict_10.keys():\n",
        "    display(HTML(\"<h3>Mix #%s: %s</h3>\" % (i, key.split('/')[-1])))\n",
        "    display(HTML(\"Original\"))\n",
        "    display(Audio(filename=key))\n",
        "    mix = create_mix(target_audio, key)\n",
        "    display(HTML(\"Mix\"))\n",
        "    display(Audio(data=mix, rate=44100))\n",
        "    i += 1"
      ],
      "execution_count": 0,
      "outputs": []
    },
    {
      "cell_type": "markdown",
      "metadata": {
        "id": "vDi0zx14-dQ0",
        "colab_type": "text"
      },
      "source": [
        "## Create the mixes and listen to them (TIV Whole)\n",
        "This will output the ten most compatible **candidate loops**  along with the mixes with the **target loops**. Those mixes will be created with the whole TIV."
      ]
    },
    {
      "cell_type": "code",
      "metadata": {
        "id": "fO9BYbOs-kMT",
        "colab_type": "code",
        "colab": {}
      },
      "source": [
        "i = 0\n",
        "for key in dict_10_w.keys():\n",
        "    display(HTML(\"<h3>Mix #%s: %s</h3>\" % (i, key.split('/')[-1])))\n",
        "    display(HTML(\"Original\"))\n",
        "    display(Audio(filename=key))\n",
        "    mix = create_mix(target_audio, key)\n",
        "    display(HTML(\"Mix\"))\n",
        "    display(Audio(data=mix, rate=44100))\n",
        "    i += 1"
      ],
      "execution_count": 0,
      "outputs": []
    },
    {
      "cell_type": "markdown",
      "metadata": {
        "id": "YSTfC3ONCiez",
        "colab_type": "text"
      },
      "source": [
        "## Create the mixes and listen to them (TIV framewise)"
      ]
    },
    {
      "cell_type": "code",
      "metadata": {
        "id": "SEIQlCkLChMQ",
        "colab_type": "code",
        "colab": {}
      },
      "source": [
        "i = 0\n",
        "for key in dict_10_f.keys():\n",
        "    display(HTML(\"<h3>Mix #%s: %s</h3>\" % (i, key.split('/')[-1])))\n",
        "    display(HTML(\"Original\"))\n",
        "    display(Audio(filename=key))\n",
        "    mix = create_mix(target_audio, key)\n",
        "    display(HTML(\"Mix\"))\n",
        "    display(Audio(data=mix, rate=44100))\n",
        "    i += 1"
      ],
      "execution_count": 0,
      "outputs": []
    },
    {
      "cell_type": "markdown",
      "metadata": {
        "id": "DYR1l2ohK4mq",
        "colab_type": "text"
      },
      "source": [
        "## Create the mixes and listen to them (Dissonance)\n",
        "\n"
      ]
    },
    {
      "cell_type": "code",
      "metadata": {
        "id": "SRzZQSfPLEnm",
        "colab_type": "code",
        "colab": {}
      },
      "source": [
        "i = 0\n",
        "for key in dict_10_d.keys():\n",
        "    display(HTML(\"<h3>Mix #%s: %s</h3>\" % (i, key.split('/')[-1])))\n",
        "    display(HTML(\"Original\"))\n",
        "    display(Audio(filename=key))\n",
        "    mix = create_mix(target_audio, key)\n",
        "    display(HTML(\"Mix\"))\n",
        "    display(Audio(data=mix, rate=44100))\n",
        "    i += 1"
      ],
      "execution_count": 0,
      "outputs": []
    }
  ]
}